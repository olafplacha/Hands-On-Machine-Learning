{
 "cells": [
  {
   "cell_type": "code",
   "execution_count": 13,
   "metadata": {
    "collapsed": true
   },
   "outputs": [],
   "source": [
    "import tensorflow as tf\n",
    "import numpy as np\n",
    "from sklearn.datasets import fetch_mldata\n",
    "from sklearn.model_selection import train_test_split, KFold\n",
    "from tensorflow.contrib.layers import fully_connected\n",
    "from tensorflow.contrib.framework import arg_scope\n",
    "from tensorflow.contrib.layers import dropout\n",
    "import matplotlib.pyplot as plt\n",
    "%matplotlib inline"
   ]
  },
  {
   "cell_type": "code",
   "execution_count": 14,
   "metadata": {
    "collapsed": true
   },
   "outputs": [],
   "source": [
    "def random_permutation(X,y):\n",
    "    idx = np.random.permutation(X.shape[0])\n",
    "    return X[idx], y[idx]"
   ]
  },
  {
   "cell_type": "code",
   "execution_count": 15,
   "metadata": {
    "collapsed": true
   },
   "outputs": [],
   "source": [
    "mnist = fetch_mldata('MNIST original')\n",
    "mnist_X = mnist.data/255 #normalized\n",
    "mnist_y = mnist.target\n",
    "\n",
    "mnist_59_X = []\n",
    "mnist_59_y = []\n",
    "\n",
    "for i in range(mnist_X.shape[0]):\n",
    "    if mnist_y[i] >= 5: #filtering out digits from 5 to 9 inclusively\n",
    "        mnist_59_X.append(mnist_X[i])\n",
    "        mnist_59_y.append(mnist_y[i])\n",
    "    \n",
    "mnist_59_X = np.array(mnist_59_X)\n",
    "mnist_59_y = np.array(mnist_59_y)\n",
    "\n",
    "mnist_59_X, mnist_59_y = random_permutation(mnist_59_X, mnist_59_y)"
   ]
  },
  {
   "cell_type": "code",
   "execution_count": 16,
   "metadata": {},
   "outputs": [
    {
     "data": {
      "text/plain": [
       "<matplotlib.image.AxesImage at 0x2a0896da198>"
      ]
     },
     "execution_count": 16,
     "metadata": {},
     "output_type": "execute_result"
    },
    {
     "data": {
      "image/png": "[encoded data removed]",
      "text/plain": [
       "<matplotlib.figure.Figure at 0x2a0a741d860>"
      ]
     },
     "metadata": {},
     "output_type": "display_data"
    }
   ],
   "source": [
    "plt.imshow(mnist_59_X[9045,:].reshape(28,28), cmap='gray')"
   ]
  },
  {
   "cell_type": "code",
   "execution_count": 17,
   "metadata": {
    "collapsed": true
   },
   "outputs": [],
   "source": [
    "flag_5, count_5 = False, 0\n",
    "flag_6, count_6 = False, 0\n",
    "flag_7, count_7 = False, 0\n",
    "flag_8, count_8 = False, 0\n",
    "flag_9, count_9 = False, 0\n",
    "\n",
    "\n",
    "small_dataset_X = []\n",
    "small_dataset_y = []\n",
    "\n",
    "size = 170\n",
    "\n",
    "\n",
    "for i in range(mnist_59_X.shape[0]):\n",
    "    \n",
    "    label = mnist_59_y[i]\n",
    "    \n",
    "    if label == 5 and flag_5 == False:\n",
    "        small_dataset_X.append(mnist_59_X[i,:])\n",
    "        small_dataset_y.append(mnist_59_y[i])\n",
    "        count_5 += 1\n",
    "    if label == 6 and flag_6 == False:\n",
    "        small_dataset_X.append(mnist_59_X[i,:])\n",
    "        small_dataset_y.append(mnist_59_y[i])\n",
    "        count_6 += 1\n",
    "    if label == 7 and flag_7 == False:\n",
    "        small_dataset_X.append(mnist_59_X[i,:])\n",
    "        small_dataset_y.append(mnist_59_y[i])\n",
    "        count_7 += 1\n",
    "    if label == 8 and flag_8 == False:\n",
    "        small_dataset_X.append(mnist_59_X[i,:])\n",
    "        small_dataset_y.append(mnist_59_y[i])\n",
    "        count_8 += 1\n",
    "    if label == 9 and flag_9 == False:\n",
    "        small_dataset_X.append(mnist_59_X[i,:])\n",
    "        small_dataset_y.append(mnist_59_y[i])\n",
    "        count_9 += 1\n",
    "        \n",
    "    if count_5 >= size:\n",
    "        flag_5 = True\n",
    "    if count_6 >= size:\n",
    "        flag_6 = True\n",
    "    if count_7 >= size:\n",
    "        flag_7 = True\n",
    "    if count_8 >= size:\n",
    "        flag_8 = True\n",
    "    if count_9 >= size:\n",
    "        flag_9 = True\n",
    "        \n",
    "small_dataset_X = np.array(small_dataset_X)\n",
    "small_dataset_y = np.array(small_dataset_y) - 5 #so that targets are from 0 to 4"
   ]
  },
  {
   "cell_type": "code",
   "execution_count": 18,
   "metadata": {},
   "outputs": [
    {
     "data": {
      "text/plain": [
       "(850, 784)"
      ]
     },
     "execution_count": 18,
     "metadata": {},
     "output_type": "execute_result"
    }
   ],
   "source": [
    "np.array(small_dataset_X).shape "
   ]
  },
  {
   "cell_type": "code",
   "execution_count": 19,
   "metadata": {
    "collapsed": true
   },
   "outputs": [],
   "source": [
    "from datetime import datetime\n",
    "\n",
    "def logdir_generate(mode):\n",
    "    root_logdir = \"tf_logs_transferlearning\"\n",
    "    now = datetime.utcnow().strftime(\"%Y%m%d%H%M%S\")\n",
    "    logdir = \"{}/{}/run-{}/\".format(root_logdir, mode, now)\n",
    "    \n",
    "    return logdir"
   ]
  },
  {
   "cell_type": "code",
   "execution_count": 20,
   "metadata": {
    "collapsed": true
   },
   "outputs": [],
   "source": [
    "def random_batch(X, y, batch_size):\n",
    "    \n",
    "    idx = np.random.randint(0, X.shape[0], batch_size)\n",
    "    batch_X = X[idx]\n",
    "    batch_y = y[idx]\n",
    "    \n",
    "    return batch_X, batch_y"
   ]
  },
  {
   "cell_type": "code",
   "execution_count": 21,
   "metadata": {
    "collapsed": true
   },
   "outputs": [],
   "source": [
    "train_X, test_X, train_y, test_y = train_test_split(small_dataset_X, small_dataset_y, test_size=0.2, shuffle=True, \n",
    "                                                    stratify=small_dataset_y)\n",
    "train_X, val_X, train_y, val_y = train_test_split(train_X, train_y, test_size=0.25, shuffle=True, \n",
    "                                                  stratify=train_y)"
   ]
  },
  {
   "cell_type": "code",
   "execution_count": 24,
   "metadata": {},
   "outputs": [
    {
     "data": {
      "text/plain": [
       "(510, 784)"
      ]
     },
     "execution_count": 24,
     "metadata": {},
     "output_type": "execute_result"
    }
   ],
   "source": [
    "train_X.shape"
   ]
  },
  {
   "cell_type": "code",
   "execution_count": 25,
   "metadata": {},
   "outputs": [
    {
     "data": {
      "text/plain": [
       "(array([ 0.,  1.,  2.,  3.,  4.]), array([34, 34, 34, 34, 34], dtype=int64))"
      ]
     },
     "execution_count": 25,
     "metadata": {},
     "output_type": "execute_result"
    }
   ],
   "source": [
    "np.unique(test_y, return_counts=True) #stratified datasets"
   ]
  },
  {
   "cell_type": "code",
   "execution_count": 72,
   "metadata": {
    "collapsed": true
   },
   "outputs": [],
   "source": [
    "n = small_dataset_X.shape[1] #num of features\n",
    "n_classes = 5 #number of classes to predict\n",
    "num_neurons = 100 #num of neurons in each hidden layer\n",
    "learning_rate = 0.0035\n",
    "n_epochs = 2000\n",
    "batch_size = 16\n",
    "keep_prob = 0.7\n",
    "max_no_winner = 8000 #if no validation loss improvement within max_no_winner steps, stop learning"
   ]
  },
  {
   "cell_type": "code",
   "execution_count": 75,
   "metadata": {},
   "outputs": [],
   "source": [
    "tf.reset_default_graph()\n",
    "X = tf.placeholder(tf.float32, shape=(None, n), name='X')\n",
    "y = tf.placeholder(tf.int64, shape=(None), name='y')\n",
    "is_training = tf.placeholder(tf.bool, shape=(), name=\"is_training\")\n",
    "\n",
    "bn_params = {\n",
    "    'is_training': is_training,\n",
    "    'decay': 0.99,\n",
    "    'updates_collections': None,\n",
    "    'scale': True\n",
    "}\n",
    "\n",
    "with tf.name_scope('DNN'):\n",
    "    with arg_scope([fully_connected], activation_fn=tf.nn.elu, \n",
    "                   weights_initializer=tf.contrib.layers.xavier_initializer(),\n",
    "                   normalizer_fn=tf.contrib.layers.batch_norm,\n",
    "                   normalizer_params=bn_params):\n",
    "        X_drop = dropout(X, keep_prob, is_training=is_training)\n",
    "        \n",
    "        hidden1 = fully_connected(X_drop, num_neurons, scope=\"hidden1\")\n",
    "        hidden1_drop = dropout(hidden1, keep_prob, is_training=is_training)\n",
    "        \n",
    "        hidden2 = fully_connected(hidden1_drop, num_neurons, scope=\"hidden2\")\n",
    "        hidden2_drop = dropout(hidden2, keep_prob, is_training=is_training)\n",
    "        \n",
    "        hidden3 = fully_connected(hidden2_drop, num_neurons, scope=\"hidden3\")\n",
    "        hidden3_drop = dropout(hidden3, keep_prob, is_training=is_training)\n",
    "        \n",
    "        hidden4 = fully_connected(hidden3_drop, num_neurons, scope=\"hidden4\")\n",
    "        hidden4_drop = dropout(hidden4, keep_prob, is_training=is_training)\n",
    "        \n",
    "        hidden5 = fully_connected(hidden4_drop, num_neurons, scope=\"hidden5\")\n",
    "        hidden5_drop = dropout(hidden5, keep_prob, is_training=is_training)\n",
    "        \n",
    "        logits = fully_connected(hidden5_drop, n_classes, activation_fn=None, scope=\"outputs\")\n",
    "\n",
    "with tf.name_scope('loss'):\n",
    "    xentrophy = tf.nn.sparse_softmax_cross_entropy_with_logits(labels=y, logits=logits)\n",
    "    loss = tf.reduce_mean(xentrophy, name='loss')\n",
    "\n",
    "with tf.name_scope('train'):\n",
    "    optimizer = tf.train.AdamOptimizer(learning_rate)\n",
    "    train_vars = tf.get_collection(tf.GraphKeys.TRAINABLE_VARIABLES,\n",
    "                                   scope=\"hidden[12345]|outputs\")\n",
    "    training_op = optimizer.minimize(loss, var_list=train_vars)\n",
    "\n",
    "with tf.name_scope('eval'):\n",
    "    correct = tf.nn.in_top_k(logits, y, 1)\n",
    "    accuracy = tf.reduce_mean(tf.cast(correct, tf.float32))\n",
    "\n",
    "#exporting useful values to Tensorboard\n",
    "loss_summary = tf.summary.scalar(\"loss\", loss)\n",
    "accuracy_summary = tf.summary.scalar(\"accuracy\", accuracy)\n",
    "file_writer_train = tf.summary.FileWriter(logdir_generate(\"train\"), tf.get_default_graph())\n",
    "file_writer_test = tf.summary.FileWriter(logdir_generate(\"test\"), tf.get_default_graph())\n",
    "\n",
    "init = tf.global_variables_initializer()\n",
    "\n",
    "reuse_vars = tf.get_collection(tf.GraphKeys.TRAINABLE_VARIABLES, scope=\"hidden[12345]\")\n",
    "reuse_vars_dict = [var for var in reuse_vars]\n",
    "original_saver = tf.train.Saver(reuse_vars_dict)\n",
    "\n",
    "#creating a saver to save our model\n",
    "saver = tf.train.Saver()"
   ]
  },
  {
   "cell_type": "code",
   "execution_count": 76,
   "metadata": {},
   "outputs": [
    {
     "name": "stdout",
     "output_type": "stream",
     "text": [
      "STARTING TO TRAIN A NEW MODEL!\n",
      "INFO:tensorflow:Restoring parameters from tmp/winner_model\n",
      "------------------\n",
      "End of training!\n",
      "------------------\n",
      "Training accuracy: 1.0\n",
      "Validation accuracy: 0.964706\n"
     ]
    }
   ],
   "source": [
    "step = 0\n",
    "no_winner = 0\n",
    "stop_learning = False\n",
    "a = 0\n",
    "\n",
    "with tf.Session() as sess:\n",
    "    n_batches = int(np.ceil(train_X.shape[0] / batch_size))\n",
    "    \n",
    "    print(\"STARTING TO TRAIN A NEW MODEL!\")\n",
    "    \n",
    "    sess.run(init)\n",
    "\n",
    "    original_saver.restore(sess,\"tmp/winner_model\")\n",
    "    \n",
    "    #getting initial losses and accuracies\n",
    "    summary_loss_train = loss_summary.eval(feed_dict={is_training: False, X: train_X, y: train_y})\n",
    "    summary_loss_test = loss_summary.eval(feed_dict={is_training: False, X: val_X, y: val_y})\n",
    "    summary_accuracy_train = accuracy_summary.eval(feed_dict={is_training: False, X: train_X, y: train_y})\n",
    "    summary_accuracy_val = accuracy_summary.eval(feed_dict={is_training: False, X: val_X, y: val_y})\n",
    "    file_writer_train.add_summary(summary_loss_train, 0)\n",
    "    file_writer_train.add_summary(summary_accuracy_train, 0)\n",
    "    file_writer_test.add_summary(summary_loss_test, 0)\n",
    "    file_writer_test.add_summary(summary_accuracy_val, 0)\n",
    "    \n",
    "    #early stopping, initializing winner\n",
    "    winner = loss.eval(feed_dict={is_training: False, X: val_X, y: val_y})\n",
    "\n",
    "    for epoch in range(n_epochs):\n",
    "        \n",
    "        for i in range(n_batches):\n",
    "            batch_X, batch_y = random_batch(train_X, train_y, batch_size)\n",
    "            sess.run(training_op, feed_dict={is_training: True, X: batch_X, y: batch_y})\n",
    "            step += 1\n",
    "            \n",
    "            #early stopping\n",
    "            if step % 100 == 0:\n",
    "                loss_val = loss.eval(feed_dict={is_training: False, X: val_X, y: val_y})\n",
    "                if winner > loss_val:\n",
    "                    winner = loss_val\n",
    "                    a = step\n",
    "                    no_winner = 0\n",
    "                    save_path = saver.save(sess, \"tmp_transfer/winner_model\")\n",
    "                else:\n",
    "                    no_winner += 100\n",
    "                if max_no_winner < no_winner:\n",
    "                    stop_learning = True\n",
    "                    break\n",
    "            #-----------------\n",
    "        if stop_learning: #if there was early stopping\n",
    "            break\n",
    "\n",
    "        if epoch % 1 == 0:\n",
    "            summary_loss_train = loss_summary.eval(feed_dict={is_training: False, is_training: False, X: batch_X, y: batch_y})\n",
    "            summary_loss_test = loss_summary.eval(feed_dict={is_training: False, X: test_X, y: test_y})\n",
    "            summary_accuracy_train = accuracy_summary.eval(feed_dict={is_training: False, X: train_X, y: train_y})\n",
    "            summary_accuracy_val = accuracy_summary.eval(feed_dict={is_training: False, X: val_X, y: val_y})\n",
    "            file_writer_train.add_summary(summary_loss_train, step)\n",
    "            file_writer_train.add_summary(summary_accuracy_train, step)\n",
    "            file_writer_test.add_summary(summary_loss_test, step)\n",
    "            file_writer_test.add_summary(summary_accuracy_val, step)\n",
    "            \n",
    "        if epoch % 10 == 0:\n",
    "            save_path = saver.save(sess, \"tmp_transfer/my_model\")\n",
    "\n",
    "    tr_acc = accuracy.eval(feed_dict={is_training: False, X: train_X, y: train_y})\n",
    "    val_acc = accuracy.eval(feed_dict={is_training: False, X: val_X, y: val_y})\n",
    "    \n",
    "print(\"------------------\")\n",
    "print(\"End of training!\")\n",
    "print(\"------------------\")\n",
    "print(\"Training accuracy:\",tr_acc)\n",
    "print(\"Validation accuracy:\",val_acc)"
   ]
  },
  {
   "cell_type": "code",
   "execution_count": 78,
   "metadata": {},
   "outputs": [
    {
     "name": "stdout",
     "output_type": "stream",
     "text": [
      "INFO:tensorflow:Restoring parameters from tmp_transfer/winner_model\n"
     ]
    }
   ],
   "source": [
    "with tf.Session() as sess:\n",
    "    saver.restore(sess, \"tmp_transfer/winner_model\")\n",
    "    acc = accuracy.eval(feed_dict={is_training: False, X: val_X, y: val_y})\n",
    "    logit = logits.eval(feed_dict={is_training: False, X: val_X, y: val_y})"
   ]
  },
  {
   "cell_type": "code",
   "execution_count": 79,
   "metadata": {},
   "outputs": [
    {
     "data": {
      "text/plain": [
       "0.97058821"
      ]
     },
     "execution_count": 79,
     "metadata": {},
     "output_type": "execute_result"
    }
   ],
   "source": [
    "acc"
   ]
  },
  {
   "cell_type": "code",
   "execution_count": 55,
   "metadata": {},
   "outputs": [
    {
     "data": {
      "text/plain": [
       "893"
      ]
     },
     "execution_count": 55,
     "metadata": {},
     "output_type": "execute_result"
    }
   ],
   "source": [
    "epoch"
   ]
  },
  {
   "cell_type": "markdown",
   "metadata": {},
   "source": [
    "97% val acc without transfer learning"
   ]
  },
  {
   "cell_type": "code",
   "execution_count": 50,
   "metadata": {},
   "outputs": [
    {
     "data": {
      "text/plain": [
       "[<tf.Variable 'hidden1/weights:0' shape=(784, 100) dtype=float32_ref>,\n",
       " <tf.Variable 'hidden1/BatchNorm/beta:0' shape=(100,) dtype=float32_ref>,\n",
       " <tf.Variable 'hidden1/BatchNorm/gamma:0' shape=(100,) dtype=float32_ref>,\n",
       " <tf.Variable 'hidden2/weights:0' shape=(100, 100) dtype=float32_ref>,\n",
       " <tf.Variable 'hidden2/BatchNorm/beta:0' shape=(100,) dtype=float32_ref>,\n",
       " <tf.Variable 'hidden2/BatchNorm/gamma:0' shape=(100,) dtype=float32_ref>,\n",
       " <tf.Variable 'hidden3/weights:0' shape=(100, 100) dtype=float32_ref>,\n",
       " <tf.Variable 'hidden3/BatchNorm/beta:0' shape=(100,) dtype=float32_ref>,\n",
       " <tf.Variable 'hidden3/BatchNorm/gamma:0' shape=(100,) dtype=float32_ref>,\n",
       " <tf.Variable 'hidden4/weights:0' shape=(100, 100) dtype=float32_ref>,\n",
       " <tf.Variable 'hidden4/BatchNorm/beta:0' shape=(100,) dtype=float32_ref>,\n",
       " <tf.Variable 'hidden4/BatchNorm/gamma:0' shape=(100,) dtype=float32_ref>,\n",
       " <tf.Variable 'hidden5/weights:0' shape=(100, 100) dtype=float32_ref>,\n",
       " <tf.Variable 'hidden5/BatchNorm/beta:0' shape=(100,) dtype=float32_ref>,\n",
       " <tf.Variable 'hidden5/BatchNorm/gamma:0' shape=(100,) dtype=float32_ref>]"
      ]
     },
     "execution_count": 50,
     "metadata": {},
     "output_type": "execute_result"
    }
   ],
   "source": [
    "reuse_vars"
   ]
  },
  {
   "cell_type": "code",
   "execution_count": 49,
   "metadata": {},
   "outputs": [
    {
     "data": {
      "text/plain": [
       "[<tf.Variable 'hidden1/weights:0' shape=(784, 100) dtype=float32_ref>,\n",
       " <tf.Variable 'hidden1/BatchNorm/beta:0' shape=(100,) dtype=float32_ref>,\n",
       " <tf.Variable 'hidden1/BatchNorm/gamma:0' shape=(100,) dtype=float32_ref>,\n",
       " <tf.Variable 'hidden2/weights:0' shape=(100, 100) dtype=float32_ref>,\n",
       " <tf.Variable 'hidden2/BatchNorm/beta:0' shape=(100,) dtype=float32_ref>,\n",
       " <tf.Variable 'hidden2/BatchNorm/gamma:0' shape=(100,) dtype=float32_ref>,\n",
       " <tf.Variable 'hidden3/weights:0' shape=(100, 100) dtype=float32_ref>,\n",
       " <tf.Variable 'hidden3/BatchNorm/beta:0' shape=(100,) dtype=float32_ref>,\n",
       " <tf.Variable 'hidden3/BatchNorm/gamma:0' shape=(100,) dtype=float32_ref>,\n",
       " <tf.Variable 'hidden4/weights:0' shape=(100, 100) dtype=float32_ref>,\n",
       " <tf.Variable 'hidden4/BatchNorm/beta:0' shape=(100,) dtype=float32_ref>,\n",
       " <tf.Variable 'hidden4/BatchNorm/gamma:0' shape=(100,) dtype=float32_ref>,\n",
       " <tf.Variable 'hidden5/weights:0' shape=(100, 100) dtype=float32_ref>,\n",
       " <tf.Variable 'hidden5/BatchNorm/beta:0' shape=(100,) dtype=float32_ref>,\n",
       " <tf.Variable 'hidden5/BatchNorm/gamma:0' shape=(100,) dtype=float32_ref>,\n",
       " <tf.Variable 'outputs/weights:0' shape=(100, 5) dtype=float32_ref>,\n",
       " <tf.Variable 'outputs/BatchNorm/beta:0' shape=(5,) dtype=float32_ref>,\n",
       " <tf.Variable 'outputs/BatchNorm/gamma:0' shape=(5,) dtype=float32_ref>]"
      ]
     },
     "execution_count": 49,
     "metadata": {},
     "output_type": "execute_result"
    }
   ],
   "source": [
    "tf.get_collection(tf.GraphKeys.TRAINABLE_VARIABLES)"
   ]
  },
  {
   "cell_type": "code",
   "execution_count": null,
   "metadata": {
    "collapsed": true
   },
   "outputs": [],
   "source": []
  }
 ],
 "metadata": {
  "kernelspec": {
   "display_name": "Python 3",
   "language": "python",
   "name": "python3"
  },
  "language_info": {
   "codemirror_mode": {
    "name": "ipython",
    "version": 3
   },
   "file_extension": ".py",
   "mimetype": "text/x-python",
   "name": "python",
   "nbconvert_exporter": "python",
   "pygments_lexer": "ipython3",
   "version": "3.6.3"
  }
 },
 "nbformat": 4,
 "nbformat_minor": 2
}
